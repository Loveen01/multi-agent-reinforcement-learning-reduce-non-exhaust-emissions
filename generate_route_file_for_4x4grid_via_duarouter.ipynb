{
 "cells": [
  {
   "cell_type": "code",
   "execution_count": 14,
   "metadata": {},
   "outputs": [],
   "source": [
    "import os\n",
    "import xml.etree.ElementTree as ET\n",
    "import numpy as np\n",
    "import argparse\n",
    "import matplotlib.pyplot as plt \n",
    "from pprint import pprint\n",
    "import pandas as pd "
   ]
  },
  {
   "cell_type": "code",
   "execution_count": 15,
   "metadata": {},
   "outputs": [],
   "source": [
    "required_vehicle_rate = 0.41\n",
    "network_file = os.path.abspath(\"data/data/4x4grid_similar_to_resco_train_new_files\")\n",
    "path_to_save_all_route_data = os.path.abspath(\"data/4x4grid_similar_to_resco_train_new_files\")"
   ]
  },
  {
   "cell_type": "code",
   "execution_count": 16,
   "metadata": {},
   "outputs": [
    {
     "data": {
      "text/plain": [
       "['/Users/loveen/Desktop/Masters project/rl-multi-agent-traffic-nonexhaust-emissions-clean',\n",
       " '/Users/loveen/.pyenv/versions/3.9.10/lib/python39.zip',\n",
       " '/Users/loveen/.pyenv/versions/3.9.10/lib/python3.9',\n",
       " '/Users/loveen/.pyenv/versions/3.9.10/lib/python3.9/lib-dynload',\n",
       " '',\n",
       " '/Users/loveen/.pyenv/versions/3.9.10/lib/python3.9/site-packages',\n",
       " '/opt/homebrew/opt/sumo/share/sumo/tools',\n",
       " '/opt/homebrew/opt/sumo/share/sumo/tools']"
      ]
     },
     "execution_count": 16,
     "metadata": {},
     "output_type": "execute_result"
    }
   ],
   "source": [
    "# os.environ['SUMO_HOME'] = '/opt/homebrew/bin/sumo' \n",
    "os.environ['SUMO_HOME'] = '/opt/homebrew/opt/sumo/bin' \n",
    "\n",
    " # Adjust this path to your SUMO installation\n",
    "import sys\n",
    "tools = '/opt/homebrew/opt/sumo/share/sumo/tools'\n",
    "sys.path.append(tools)\n",
    "\n",
    "sys.path"
   ]
  },
  {
   "cell_type": "code",
   "execution_count": 17,
   "metadata": {},
   "outputs": [],
   "source": [
    "os.environ['SUMO_TOOLS'] = '/opt/homebrew/opt/sumo/share/sumo/tools'"
   ]
  },
  {
   "cell_type": "code",
   "execution_count": 18,
   "metadata": {},
   "outputs": [
    {
     "name": "stdout",
     "output_type": "stream",
     "text": [
      "SUMO_HOME is set to: /opt/homebrew/opt/sumo/bin\n"
     ]
    }
   ],
   "source": [
    "print(\"SUMO_HOME is set to:\", os.environ['SUMO_HOME'])"
   ]
  },
  {
   "cell_type": "code",
   "execution_count": 19,
   "metadata": {},
   "outputs": [
    {
     "data": {
      "text/plain": [
       "True"
      ]
     },
     "execution_count": 19,
     "metadata": {},
     "output_type": "execute_result"
    }
   ],
   "source": [
    "# Verify the tools directory exists\n",
    "# Verify the tools directory exists\n",
    "os.path.exists(tools)"
   ]
  },
  {
   "cell_type": "code",
   "execution_count": 20,
   "metadata": {},
   "outputs": [
    {
     "data": {
      "text/plain": [
       "2.4390243902439024"
      ]
     },
     "execution_count": 20,
     "metadata": {},
     "output_type": "execute_result"
    }
   ],
   "source": [
    "1/required_vehicle_rate"
   ]
  },
  {
   "cell_type": "code",
   "execution_count": 22,
   "metadata": {},
   "outputs": [],
   "source": [
    "seed = 285"
   ]
  },
  {
   "cell_type": "code",
   "execution_count": 24,
   "metadata": {},
   "outputs": [
    {
     "name": "stdout",
     "output_type": "stream",
     "text": [
      "Warning: Environment variable SUMO_HOME is not set properly, disabling XML validation. Set 'auto' or 'always' for web lookups.\n",
      "Success.\n",
      "Warning: Environment variable SUMO_HOME is not set properly, disabling XML validation. Set 'auto' or 'always' for web lookups.\n",
      "Success.\n"
     ]
    }
   ],
   "source": [
    "sumo_tools = os.getenv('SUMO_TOOLS')\n",
    "\n",
    "random_trips_cmd = f\"python {sumo_tools}/randomTrips.py -n data/4x4grid_similar_to_resco_train_new_files/grid4x4.net.xml -o data/4x4grid_similar_to_resco_train_new_files/random_trips_{seed}.trips.xml -e 10000 --seed={seed} --period=2.4390243902439024 --validate\"\n",
    "\n",
    "# Use the %shell magic to execute the command\n",
    "!{random_trips_cmd}"
   ]
  },
  {
   "cell_type": "code",
   "execution_count": 27,
   "metadata": {},
   "outputs": [
    {
     "name": "stdout",
     "output_type": "stream",
     "text": [
      "Warning: Environment variable SUMO_HOME is not set properly, disabling XML validation. Set 'auto' or 'always' for web lookups.\n",
      "Success.up to time step: 5000.00  (5000.00/5000.00 = 100.00% done)       \n"
     ]
    }
   ],
   "source": [
    "# Run duarouter to convert trips to routes with the specified output path\n",
    "dua_router_cmd = f\"duarouter -b 0 -e 5000 --route-files=data/4x4grid_similar_to_resco_train_new_files/random_trips_{seed}.trips.xml --net-file=data/4x4grid_similar_to_resco_train_new_files/grid4x4.net.xml --output-file=data/4x4grid_similar_to_resco_train_new_files/random_routes_seed_{seed}.rou.xml\" # --vtype-output \"data/cologne8/vtype.xml\"\n",
    "!{dua_router_cmd}"
   ]
  },
  {
   "cell_type": "code",
   "execution_count": null,
   "metadata": {},
   "outputs": [],
   "source": []
  },
  {
   "cell_type": "code",
   "execution_count": null,
   "metadata": {},
   "outputs": [],
   "source": []
  },
  {
   "cell_type": "code",
   "execution_count": 59,
   "metadata": {},
   "outputs": [],
   "source": [
    "# !python $SUMO_TOOLS/randomTrips.py -n \"data/4x4grid_similar_to_resco_train_new_files/grid4x4.net.xml\" -o \"data/4x4grid_similar_to_resco_train_new_files/random_trips_{seed}.trips.xml\" -e 100000 --seed={seed} --period=2.4390243902439024 --validate"
   ]
  },
  {
   "cell_type": "code",
   "execution_count": 32,
   "metadata": {},
   "outputs": [
    {
     "name": "stdout",
     "output_type": "stream",
     "text": [
      "Warning: Environment variable SUMO_HOME is not set properly, disabling XML validation. Set 'auto' or 'always' for web lookups.\n",
      "Loading net ... done.\n",
      "Skipped until: 0.00\n",
      "Routes found between time steps 0.00 and 5000.00.0 = 100.00% done)       \n",
      "DijkstraRouter answered 1961 queries and explored 34.79 edges on average.\n",
      "DijkstraRouter spent 0.00s answering queries (0.00ms on average).\n",
      "Success.\n"
     ]
    }
   ],
   "source": [
    "# Run duarouter to convert trips to routes with the specified output path\n",
    "# !duarouter -b 0 -e 5000 --route-files=\"data/4x4grid_similar_to_resco_train_new_files/random_trips_42.trips.xml\" --net-file=\"data/4x4grid_similar_to_resco_train_new_files/grid4x4.net.xml\" --output-file=\"data/4x4grid_similar_to_resco_train_new_files/random_routes_seed_42_testing.rou.xml\" # --vtype-output \"data/cologne8/vtype.xml\" "
   ]
  },
  {
   "cell_type": "code",
   "execution_count": 219,
   "metadata": {},
   "outputs": [],
   "source": [
    "# Load the routes file\n",
    "original_cologne8 = ET.parse(\"/Users/loveen/Desktop/Masters project/rl-multi-agent-traffic-nonexhaust-emissions-clean/data/cologne8_resco_eval/cologne8.rou.xml\")\n",
    "root = original_cologne8.getroot()\n",
    "\n",
    "original_cologne8_flows = {}\n",
    "# Iterate over routes and convert them to flows\n",
    "flow_id = 0\n",
    "for trip in root.findall('trip'):\n",
    "    # Create a flow element\n",
    "    from_edge = trip.get('from')\n",
    "    to_edge = trip.get('to')\n",
    "\n",
    "    if (from_edge, to_edge) not in original_cologne8_flows.keys():\n",
    "        original_cologne8_flows[(from_edge, to_edge)] = 0\n",
    "    original_cologne8_flows[(from_edge, to_edge)] += 1"
   ]
  },
  {
   "cell_type": "code",
   "execution_count": 220,
   "metadata": {},
   "outputs": [
    {
     "name": "stdout",
     "output_type": "stream",
     "text": [
      "no of unique origin-destin pairs 579\n"
     ]
    }
   ],
   "source": [
    "print(\"no of unique origin-destin pairs\", len(original_cologne8_flows.keys()))"
   ]
  },
  {
   "cell_type": "code",
   "execution_count": 221,
   "metadata": {},
   "outputs": [
    {
     "name": "stdout",
     "output_type": "stream",
     "text": [
      "total no of trips 2046\n"
     ]
    }
   ],
   "source": [
    "print(\"total no of trips\", sum(original_cologne8_flows.values()))"
   ]
  },
  {
   "cell_type": "code",
   "execution_count": 222,
   "metadata": {},
   "outputs": [
    {
     "data": {
      "text/plain": [
       "0.5683333333333334"
      ]
     },
     "execution_count": 222,
     "metadata": {},
     "output_type": "execute_result"
    }
   ],
   "source": [
    "(2046, 3600)\n",
    "3600/2046, 2046/3600\n",
    "\n",
    "resco_sec = 3600 \n",
    "resco_no_vehicles = 2046\n",
    "resco_tps = 2046/3600\n",
    "\n",
    "resco_tps"
   ]
  },
  {
   "cell_type": "code",
   "execution_count": 223,
   "metadata": {},
   "outputs": [],
   "source": [
    "my_sec = 10000\n",
    "my_no_vehicles = resco_tps*my_sec\n",
    "requied_tps = 2046/3600"
   ]
  },
  {
   "cell_type": "code",
   "execution_count": 224,
   "metadata": {},
   "outputs": [
    {
     "data": {
      "text/plain": [
       "5683.333333333334"
      ]
     },
     "execution_count": 224,
     "metadata": {},
     "output_type": "execute_result"
    }
   ],
   "source": [
    "my_no_vehicles"
   ]
  },
  {
   "cell_type": "code",
   "execution_count": 225,
   "metadata": {},
   "outputs": [],
   "source": [
    "# Load the routes file\n",
    "my_curated_one = ET.parse(\"/Users/loveen/Desktop/Masters project/rl-multi-agent-traffic-nonexhaust-emissions-clean/data/cologne8/random_routes.rou.xml\")\n",
    "root = my_curated_one.getroot()\n",
    "\n",
    "my_curated_one_flows = {}\n",
    "# Iterate over routes and convert them to flows\n",
    "flow_id = 0\n",
    "for trip in root.findall('trip'):\n",
    "    # Create a flow element\n",
    "    from_edge = trip.get('from')\n",
    "    to_edge = trip.get('to')\n",
    "\n",
    "    if (from_edge, to_edge) not in my_curated_one_flows.keys():\n",
    "        my_curated_one_flows[(from_edge, to_edge)] = 0\n",
    "    my_curated_one_flows[(from_edge, to_edge)] += 1"
   ]
  },
  {
   "cell_type": "code",
   "execution_count": 226,
   "metadata": {},
   "outputs": [
    {
     "name": "stdout",
     "output_type": "stream",
     "text": [
      "no of unique origin-destin pairs 4595\n"
     ]
    }
   ],
   "source": [
    "print(\"no of unique origin-destin pairs\", len(my_curated_one_flows.keys()))"
   ]
  },
  {
   "cell_type": "code",
   "execution_count": 227,
   "metadata": {},
   "outputs": [
    {
     "name": "stdout",
     "output_type": "stream",
     "text": [
      "total no of trips 5475\n"
     ]
    }
   ],
   "source": [
    "print(\"total no of trips\", sum(my_curated_one_flows.values()))"
   ]
  },
  {
   "cell_type": "code",
   "execution_count": null,
   "metadata": {},
   "outputs": [],
   "source": []
  }
 ],
 "metadata": {
  "kernelspec": {
   "display_name": "Python 3",
   "language": "python",
   "name": "python3"
  },
  "language_info": {
   "codemirror_mode": {
    "name": "ipython",
    "version": 3
   },
   "file_extension": ".py",
   "mimetype": "text/x-python",
   "name": "python",
   "nbconvert_exporter": "python",
   "pygments_lexer": "ipython3",
   "version": "3.9.10"
  }
 },
 "nbformat": 4,
 "nbformat_minor": 2
}
