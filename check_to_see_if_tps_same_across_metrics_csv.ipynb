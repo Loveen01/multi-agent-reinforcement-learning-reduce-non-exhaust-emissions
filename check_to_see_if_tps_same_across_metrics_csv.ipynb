{
 "cells": [
  {
   "cell_type": "markdown",
   "metadata": {},
   "source": [
    "## Check to see if arrived no vehicles - traffic congestion is constant across different environment metrics files. \n",
    "checking if eval and training data for the resco 4x4grid has similar levels of congestion. This is required so that the training environment is training for moderate levels of traffic. "
   ]
  },
  {
   "cell_type": "markdown",
   "metadata": {},
   "source": [
    "TPS is trips per second. \n",
    "In the resco evaluation - we find that the trips per second is around 0.4, so we expect this value constant for all training experiments. This is a control variable - load testing is another experiment to cover. "
   ]
  },
  {
   "cell_type": "code",
   "execution_count": 1,
   "metadata": {},
   "outputs": [],
   "source": [
    "import pandas as pd\n",
    "import os"
   ]
  },
  {
   "cell_type": "code",
   "execution_count": 7,
   "metadata": {},
   "outputs": [],
   "source": [
    "resco_eval_path = [\"reward_measuring_experiment/4x4grid_resco_eval/diff_accum_wait_time_reward_raw/fixed_tc/SEED_39/eval_metrics.csv\",\n",
    "                   \"reward_measuring_experiment/4x4grid_resco_eval/tyre_pm_reward/fixed_tc/SEED_39/eval_metrics.csv\"]\n",
    "\n",
    "resco_train_path_corrected_5000 = [\"reward_measuring_experiment/4x4grid_resco_train_corrected_5000s/tyre_pm_reward/fixed_tc/SEED_39/eval_metrics.csv\"]\n",
    "resco_train_path_corrected_10000 = [\"reward_measuring_experiment/4x4grid_resco_train_corrected_10000s/tyre_pm_reward/fixed_tc/SEED_39/eval_metrics.csv\"]\n",
    "resco_train_path_corrected_5000_scaled_distrib = [\"reward_measuring_experiment/4x4grid_resco_train_corrected_5000s_scaled_route_distrib/tyre_pm_reward/fixed_tc/SEED_39/eval_metrics.csv\"]"
   ]
  },
  {
   "cell_type": "code",
   "execution_count": 8,
   "metadata": {},
   "outputs": [],
   "source": [
    "resco_eval_path = [os.path.abspath(path) for path in resco_eval_path]\n",
    "resco_train_path_corrected_5000 = [os.path.abspath(path) for path in resco_train_path_corrected_5000]\n",
    "resco_train_path_corrected_10000 = [os.path.abspath(path) for path in resco_train_path_corrected_10000]\n",
    "resco_train_path_corrected_5000_scaled_distrib = [os.path.abspath(resco_train_path_corrected_5000_scaled_distrib[0])]"
   ]
  },
  {
   "cell_type": "code",
   "execution_count": 4,
   "metadata": {},
   "outputs": [],
   "source": [
    "resco_eval_diff_accum_wait = pd.read_csv(resco_eval_path[0])\n",
    "resco_eval_tyre_pm = pd.read_csv(resco_eval_path[1])\n",
    "\n",
    "resco_train_corrected_5000_tyre_pm = pd.read_csv(resco_train_path_corrected_5000[0])\n",
    "resco_train_corrected_10000_tyre_pm = pd.read_csv(resco_train_path_corrected_10000[0])\n",
    "\n",
    "resco_train_path_corrected_5000_scaled_distrib = pd.read_csv(resco_train_path_corrected_5000_scaled_distrib[0])"
   ]
  },
  {
   "cell_type": "markdown",
   "metadata": {},
   "source": [
    "Check if eval arrived no of vehicles of the resco official evaluation file is same as the the one we curated for training - metrics.csv \n",
    "This is to see if congestion rate is the same"
   ]
  },
  {
   "cell_type": "code",
   "execution_count": 5,
   "metadata": {},
   "outputs": [
    {
     "data": {
      "text/plain": [
       "(1441, 2379)"
      ]
     },
     "execution_count": 5,
     "metadata": {},
     "output_type": "execute_result"
    }
   ],
   "source": [
    "resco_eval_tyre_pm['sys_arrived_vehicles_at_destination'].sum(), resco_train_corrected_5000_tyre_pm['sys_arrived_vehicles_at_destination'].sum()"
   ]
  },
  {
   "cell_type": "code",
   "execution_count": 6,
   "metadata": {},
   "outputs": [
    {
     "name": "stdout",
     "output_type": "stream",
     "text": [
      "1473 2045.8333333333333\n",
      "0.4091666666666667 0.4091666666666667\n"
     ]
    }
   ],
   "source": [
    "no_trips_in_original_eval_route_file = 1473\n",
    "no_expected_trips_in_new_route_file = 1473 * 5000/3600\n",
    "\n",
    "print(no_trips_in_original_eval_route_file, no_expected_trips_in_new_route_file)\n",
    "print(no_trips_in_original_eval_route_file/3600, no_expected_trips_in_new_route_file/5000)"
   ]
  },
  {
   "cell_type": "code",
   "execution_count": 9,
   "metadata": {},
   "outputs": [
    {
     "data": {
      "text/plain": [
       "(3600.0, 5000.0)"
      ]
     },
     "execution_count": 9,
     "metadata": {},
     "output_type": "execute_result"
    }
   ],
   "source": [
    "resco_eval_tyre_pm['sim_time'].max(), resco_train_corrected_5000_tyre_pm['sim_time'].max()"
   ]
  },
  {
   "cell_type": "code",
   "execution_count": 14,
   "metadata": {},
   "outputs": [
    {
     "data": {
      "text/plain": [
       "(1441, 1681)"
      ]
     },
     "execution_count": 14,
     "metadata": {},
     "output_type": "execute_result"
    }
   ],
   "source": [
    "resco_eval_tyre_pm['sys_arrived_vehicles_at_destination'].sum(), resco_train_corrected_5000_tyre_pm[0:3599]['sys_arrived_vehicles_at_destination'].sum()"
   ]
  },
  {
   "cell_type": "code",
   "execution_count": 15,
   "metadata": {},
   "outputs": [
    {
     "data": {
      "text/plain": [
       "0.4002777777777778"
      ]
     },
     "execution_count": 15,
     "metadata": {},
     "output_type": "execute_result"
    }
   ],
   "source": [
    "resco_eval_tyre_pm['sys_arrived_vehicles_at_destination'].sum()/3600"
   ]
  },
  {
   "cell_type": "markdown",
   "metadata": {},
   "source": []
  },
  {
   "cell_type": "code",
   "execution_count": 16,
   "metadata": {},
   "outputs": [
    {
     "data": {
      "text/plain": [
       "0.4758"
      ]
     },
     "execution_count": 16,
     "metadata": {},
     "output_type": "execute_result"
    }
   ],
   "source": [
    "resco_train_corrected_5000_tyre_pm['sys_arrived_vehicles_at_destination'].sum()/5000"
   ]
  },
  {
   "cell_type": "code",
   "execution_count": 17,
   "metadata": {},
   "outputs": [
    {
     "ename": "TypeError",
     "evalue": "list indices must be integers or slices, not str",
     "output_type": "error",
     "traceback": [
      "\u001b[0;31m---------------------------------------------------------------------------\u001b[0m",
      "\u001b[0;31mTypeError\u001b[0m                                 Traceback (most recent call last)",
      "Cell \u001b[0;32mIn[17], line 1\u001b[0m\n\u001b[0;32m----> 1\u001b[0m \u001b[43mresco_train_path_corrected_5000_scaled_distrib\u001b[49m\u001b[43m[\u001b[49m\u001b[38;5;124;43m\"\u001b[39;49m\u001b[38;5;124;43msys_arrived_vehicles_at_destination\u001b[39;49m\u001b[38;5;124;43m\"\u001b[39;49m\u001b[43m]\u001b[49m\u001b[38;5;241m.\u001b[39msum()\u001b[38;5;241m/\u001b[39m\u001b[38;5;241m5000\u001b[39m\n",
      "\u001b[0;31mTypeError\u001b[0m: list indices must be integers or slices, not str"
     ]
    }
   ],
   "source": [
    "resco_train_path_corrected_5000_scaled_distrib[\"sys_arrived_vehicles_at_destination\"].sum()/5000"
   ]
  },
  {
   "cell_type": "markdown",
   "metadata": {},
   "source": [
    "calculate the mean and range of the values here!"
   ]
  },
  {
   "cell_type": "code",
   "execution_count": 18,
   "metadata": {},
   "outputs": [
    {
     "ename": "TypeError",
     "evalue": "list indices must be integers or slices, not str",
     "output_type": "error",
     "traceback": [
      "\u001b[0;31m---------------------------------------------------------------------------\u001b[0m",
      "\u001b[0;31mTypeError\u001b[0m                                 Traceback (most recent call last)",
      "Cell \u001b[0;32mIn[18], line 1\u001b[0m\n\u001b[0;32m----> 1\u001b[0m \u001b[43mresco_train_path_corrected_5000_scaled_distrib\u001b[49m\u001b[43m[\u001b[49m\u001b[38;5;124;43m\"\u001b[39;49m\u001b[38;5;124;43msys_arrived_vehicles_at_destination\u001b[39;49m\u001b[38;5;124;43m\"\u001b[39;49m\u001b[43m]\u001b[49m\u001b[38;5;241m.\u001b[39msum()\n",
      "\u001b[0;31mTypeError\u001b[0m: list indices must be integers or slices, not str"
     ]
    }
   ],
   "source": [
    "resco_train_path_corrected_5000_scaled_distrib[\"sys_arrived_vehicles_at_destination\"].sum()"
   ]
  },
  {
   "cell_type": "code",
   "execution_count": 17,
   "metadata": {},
   "outputs": [
    {
     "data": {
      "text/plain": [
       "0.3836"
      ]
     },
     "execution_count": 17,
     "metadata": {},
     "output_type": "execute_result"
    }
   ],
   "source": [
    "trip_rate = resco_train_path_corrected_5000_scaled_distrib[\"sys_arrived_vehicles_at_destination\"].sum() / 5000\n",
    "trip_rate"
   ]
  },
  {
   "cell_type": "code",
   "execution_count": null,
   "metadata": {},
   "outputs": [],
   "source": []
  }
 ],
 "metadata": {
  "kernelspec": {
   "display_name": "Python 3",
   "language": "python",
   "name": "python3"
  },
  "language_info": {
   "codemirror_mode": {
    "name": "ipython",
    "version": 3
   },
   "file_extension": ".py",
   "mimetype": "text/x-python",
   "name": "python",
   "nbconvert_exporter": "python",
   "pygments_lexer": "ipython3",
   "version": "3.9.10"
  }
 },
 "nbformat": 4,
 "nbformat_minor": 2
}
