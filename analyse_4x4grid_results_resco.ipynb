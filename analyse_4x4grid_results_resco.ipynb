{
 "cells": [
  {
   "cell_type": "code",
   "execution_count": 302,
   "metadata": {},
   "outputs": [],
   "source": [
    "import os\n",
    "import csv\n",
    "import pandas as pd\n",
    "import sys"
   ]
  },
  {
   "cell_type": "code",
   "execution_count": 303,
   "metadata": {},
   "outputs": [],
   "source": [
    "path_to_4x4grid_resco_ppo_eval = \"/Users/loveen/Desktop/Masters project/my_resco_eval/IPPO-tr0-grid4x4-0-drq_norm-wait_norm\""
   ]
  },
  {
   "cell_type": "code",
   "execution_count": 304,
   "metadata": {},
   "outputs": [],
   "source": [
    "agent_ids = ['A0', 'A1', 'A2', 'A3',\n",
    "                      'B0', 'B1', 'B2', 'B3',\n",
    "                      'C0', 'C1', 'C2', 'C3',\n",
    "                      'D0', 'D1', 'D2', 'D3']"
   ]
  },
  {
   "cell_type": "code",
   "execution_count": 305,
   "metadata": {},
   "outputs": [],
   "source": [
    "metrics_df = pd.read_csv(os.path.join(path_to_4x4grid_resco_ppo_eval, f\"metrics_{1}.csv\"))"
   ]
  },
  {
   "cell_type": "code",
   "execution_count": 306,
   "metadata": {},
   "outputs": [],
   "source": [
    "column_row = metrics_df.columns\n",
    "metrics_df.loc[-1] = column_row\n",
    "\n",
    "# Step 3: Reindex the DataFrame to move the new row to the top\n",
    "metrics_df.index = metrics_df.index + 1  # shift index\n",
    "metrics_df = metrics_df.sort_index()"
   ]
  },
  {
   "cell_type": "code",
   "execution_count": 307,
   "metadata": {},
   "outputs": [],
   "source": [
    "metrics_df.rename(columns={metrics_df.columns[0]:'step'}, inplace=True)"
   ]
  },
  {
   "cell_type": "code",
   "execution_count": 308,
   "metadata": {},
   "outputs": [],
   "source": [
    "reward_label_mappings = dict(zip(list(metrics_df.columns[1:17]),[f\"reward_{id}\" for id in agent_ids]))"
   ]
  },
  {
   "cell_type": "code",
   "execution_count": 309,
   "metadata": {},
   "outputs": [],
   "source": [
    "max_queue_label_mappings = dict(zip(list(metrics_df.columns[17:33]),[f\"max_q_{id}\" for id in agent_ids]))"
   ]
  },
  {
   "cell_type": "code",
   "execution_count": 310,
   "metadata": {},
   "outputs": [],
   "source": [
    "queue_len_label_mappings = dict(zip(list(metrics_df.columns[33:50]),[f\"q_len_{id}\" for id in agent_ids]))"
   ]
  },
  {
   "cell_type": "code",
   "execution_count": 311,
   "metadata": {},
   "outputs": [],
   "source": [
    "metrics_df.rename(columns=dict(reward_label_mappings), inplace=True)\n",
    "metrics_df.rename(columns=dict(max_queue_label_mappings), inplace=True)\n",
    "metrics_df.rename(columns=dict(queue_len_label_mappings), inplace=True)"
   ]
  },
  {
   "cell_type": "code",
   "execution_count": 312,
   "metadata": {},
   "outputs": [],
   "source": [
    "metrics_df.drop(columns=[' '], inplace=True)"
   ]
  },
  {
   "cell_type": "code",
   "execution_count": 474,
   "metadata": {},
   "outputs": [],
   "source": [
    "import json\n",
    "import re \n",
    "\n",
    "def add_closing_bracket(cell):\n",
    "    \"\"\"\n",
    "    Adds a closing bracket '}' to the string if it is missing.\n",
    "    \n",
    "    Parameters:\n",
    "    cell (str): The string to be checked and potentially modified.\n",
    "    \n",
    "    Returns:\n",
    "    str: The modified string with a closing bracket if it was missing.\n",
    "    \"\"\"\n",
    "    if isinstance(cell, str):\n",
    "        if not cell.endswith(('}','} ', '} ')):\n",
    "            cell = cell + '}'\n",
    "        if not cell.startswith((' {', '{', '  {')):\n",
    "            cell = '{' + cell\n",
    "    return cell\n",
    "\n",
    "def extract_value(cell):\n",
    "    if isinstance(cell, str):\n",
    "        # Remove leading/trailing brackets and split by colon\n",
    "        cell = cell.strip('{} ')\n",
    "        parts = cell.split(':')\n",
    "        if len(parts) > 1:\n",
    "            return parts[1].strip()\n",
    "    return cell\n",
    "\n",
    "def replace_wierd_char(cell):\n",
    "    if isinstance(cell, str):\n",
    "        if '{' in cell:\n",
    "            cell = cell.replace(\"{\", '')\n",
    "        if '}' in cell:\n",
    "            cell = cell.replace(\"}\", '')\n",
    "    return cell"
   ]
  },
  {
   "cell_type": "code",
   "execution_count": 498,
   "metadata": {},
   "outputs": [],
   "source": [
    "def data_transformation_pipeline(metrics_df):\n",
    "    column_row = metrics_df.columns\n",
    "    metrics_df.loc[-1] = column_row\n",
    "\n",
    "    # Step 3: Reindex the DataFrame to move the new row to the top\n",
    "    metrics_df.index = metrics_df.index + 1  # shift index\n",
    "    metrics_df = metrics_df.sort_index()\n",
    "\n",
    "    metrics_df.rename(columns={metrics_df.columns[0]:'step'}, inplace=True)\n",
    "    \n",
    "    reward_label_mappings = dict(zip(list(metrics_df.columns[1:17]),[f\"reward_{id}\" for id in agent_ids]))\n",
    "    max_queue_label_mappings = dict(zip(list(metrics_df.columns[17:33]),[f\"max_q_{id}\" for id in agent_ids]))\n",
    "\n",
    "    queue_len_label_mappings = dict(zip(list(metrics_df.columns[33:50]),[f\"q_len_{id}\" for id in agent_ids]))\n",
    "    \n",
    "    metrics_df.rename(columns=dict(reward_label_mappings), inplace=True)\n",
    "    metrics_df.rename(columns=dict(max_queue_label_mappings), inplace=True)\n",
    "    metrics_df.rename(columns=dict(queue_len_label_mappings), inplace=True)\n",
    "\n",
    "    metrics_df.drop(columns=[' '], inplace=True)\n",
    "\n",
    "    closed_brackets_data = metrics_df.map(add_closing_bracket)\n",
    "    extracted_value = closed_brackets_data.map(extract_value)\n",
    "    removed_wierd_brackets = extracted_value.map(replace_wierd_char)\n",
    "\n",
    "    convert_to_float = removed_wierd_brackets.astype(float)\n",
    "    \n",
    "    return convert_to_float"
   ]
  },
  {
   "cell_type": "code",
   "execution_count": 499,
   "metadata": {},
   "outputs": [],
   "source": [
    "metrics_df = pd.read_csv(os.path.join(path_to_4x4grid_resco_ppo_eval, f\"metrics_{1}.csv\"))\n",
    "\n",
    "transormed_data = data_transformation_pipeline(metrics_df)"
   ]
  },
  {
   "cell_type": "code",
   "execution_count": 500,
   "metadata": {},
   "outputs": [],
   "source": [
    "def contains_brackets(cell):\n",
    "    return '{' in cell or '}' in cell if isinstance(cell, str) else False"
   ]
  },
  {
   "cell_type": "code",
   "execution_count": 501,
   "metadata": {},
   "outputs": [
    {
     "name": "stdout",
     "output_type": "stream",
     "text": [
      "Locations of cells containing '{' or '}':\n",
      "[]\n"
     ]
    }
   ],
   "source": [
    "has_wierd_brackers_locations = transormed_data.map(contains_brackets).stack()\n",
    "\n",
    "# Filter the True values\n",
    "locations = has_wierd_brackers_locations[has_wierd_brackers_locations]\n",
    "# Print the locations\n",
    "print(\"Locations of cells containing '{' or '}':\")\n",
    "print(locations.index.tolist())"
   ]
  },
  {
   "cell_type": "code",
   "execution_count": 516,
   "metadata": {},
   "outputs": [],
   "source": [
    "all_processed_data = []\n",
    "\n",
    "for i in range(1, 101):\n",
    "    metrics_df = pd.read_csv(os.path.join(path_to_4x4grid_resco_ppo_eval, f\"metrics_{i}.csv\"))\n",
    "    processed_data = data_transformation_pipeline(metrics_df)\n",
    "    all_processed_data.append(processed_data)\n",
    "\n",
    "all_concat_data = pd.concat(all_processed_data, axis=1)"
   ]
  },
  {
   "cell_type": "code",
   "execution_count": 521,
   "metadata": {},
   "outputs": [],
   "source": [
    "all_concat_data = pd.concat(all_processed_data, axis=0)\n",
    "all_concat_data_mean = all_concat_data.groupby(all_concat_data.index).mean()"
   ]
  },
  {
   "cell_type": "code",
   "execution_count": 580,
   "metadata": {},
   "outputs": [
    {
     "data": {
      "text/html": [
       "<div>\n",
       "<style scoped>\n",
       "    .dataframe tbody tr th:only-of-type {\n",
       "        vertical-align: middle;\n",
       "    }\n",
       "\n",
       "    .dataframe tbody tr th {\n",
       "        vertical-align: top;\n",
       "    }\n",
       "\n",
       "    .dataframe thead th {\n",
       "        text-align: right;\n",
       "    }\n",
       "</style>\n",
       "<table border=\"1\" class=\"dataframe\">\n",
       "  <thead>\n",
       "    <tr style=\"text-align: right;\">\n",
       "      <th></th>\n",
       "      <th>step</th>\n",
       "      <th>reward_A0</th>\n",
       "      <th>reward_A1</th>\n",
       "      <th>reward_A2</th>\n",
       "      <th>reward_A3</th>\n",
       "      <th>reward_B0</th>\n",
       "      <th>reward_B1</th>\n",
       "      <th>reward_B2</th>\n",
       "      <th>reward_B3</th>\n",
       "      <th>reward_C0</th>\n",
       "      <th>...</th>\n",
       "      <th>q_len_B2</th>\n",
       "      <th>q_len_B3</th>\n",
       "      <th>q_len_C0</th>\n",
       "      <th>q_len_C1</th>\n",
       "      <th>q_len_C2</th>\n",
       "      <th>q_len_C3</th>\n",
       "      <th>q_len_D0</th>\n",
       "      <th>q_len_D1</th>\n",
       "      <th>q_len_D2</th>\n",
       "      <th>q_len_D3</th>\n",
       "    </tr>\n",
       "  </thead>\n",
       "  <tbody>\n",
       "    <tr>\n",
       "      <th>0</th>\n",
       "      <td>5.0</td>\n",
       "      <td>0.000000</td>\n",
       "      <td>0.000000</td>\n",
       "      <td>0.000000</td>\n",
       "      <td>0.000000</td>\n",
       "      <td>0.000000</td>\n",
       "      <td>0.000000</td>\n",
       "      <td>0.000000</td>\n",
       "      <td>0.000000</td>\n",
       "      <td>0.000000</td>\n",
       "      <td>...</td>\n",
       "      <td>0.10</td>\n",
       "      <td>0.10</td>\n",
       "      <td>0.10</td>\n",
       "      <td>0.10</td>\n",
       "      <td>0.10</td>\n",
       "      <td>0.10</td>\n",
       "      <td>0.10</td>\n",
       "      <td>0.10</td>\n",
       "      <td>0.10</td>\n",
       "      <td>0.10</td>\n",
       "    </tr>\n",
       "    <tr>\n",
       "      <th>1</th>\n",
       "      <td>10.0</td>\n",
       "      <td>0.000000</td>\n",
       "      <td>0.000000</td>\n",
       "      <td>0.000000</td>\n",
       "      <td>0.000000</td>\n",
       "      <td>0.000000</td>\n",
       "      <td>0.000000</td>\n",
       "      <td>0.000000</td>\n",
       "      <td>0.000000</td>\n",
       "      <td>0.000000</td>\n",
       "      <td>...</td>\n",
       "      <td>0.00</td>\n",
       "      <td>0.00</td>\n",
       "      <td>0.00</td>\n",
       "      <td>0.00</td>\n",
       "      <td>0.00</td>\n",
       "      <td>0.00</td>\n",
       "      <td>0.00</td>\n",
       "      <td>0.00</td>\n",
       "      <td>0.00</td>\n",
       "      <td>0.00</td>\n",
       "    </tr>\n",
       "    <tr>\n",
       "      <th>2</th>\n",
       "      <td>15.0</td>\n",
       "      <td>0.000000</td>\n",
       "      <td>0.000000</td>\n",
       "      <td>0.000000</td>\n",
       "      <td>0.000000</td>\n",
       "      <td>0.000000</td>\n",
       "      <td>0.000000</td>\n",
       "      <td>0.000000</td>\n",
       "      <td>0.000000</td>\n",
       "      <td>0.000000</td>\n",
       "      <td>...</td>\n",
       "      <td>0.00</td>\n",
       "      <td>0.00</td>\n",
       "      <td>0.00</td>\n",
       "      <td>0.00</td>\n",
       "      <td>0.00</td>\n",
       "      <td>0.00</td>\n",
       "      <td>0.00</td>\n",
       "      <td>0.00</td>\n",
       "      <td>0.00</td>\n",
       "      <td>0.00</td>\n",
       "    </tr>\n",
       "    <tr>\n",
       "      <th>3</th>\n",
       "      <td>20.0</td>\n",
       "      <td>0.000000</td>\n",
       "      <td>0.000000</td>\n",
       "      <td>0.000000</td>\n",
       "      <td>0.000000</td>\n",
       "      <td>0.000000</td>\n",
       "      <td>0.000000</td>\n",
       "      <td>0.000000</td>\n",
       "      <td>0.000000</td>\n",
       "      <td>0.000000</td>\n",
       "      <td>...</td>\n",
       "      <td>0.00</td>\n",
       "      <td>0.00</td>\n",
       "      <td>0.00</td>\n",
       "      <td>0.00</td>\n",
       "      <td>0.00</td>\n",
       "      <td>0.00</td>\n",
       "      <td>0.00</td>\n",
       "      <td>0.00</td>\n",
       "      <td>0.00</td>\n",
       "      <td>0.00</td>\n",
       "    </tr>\n",
       "    <tr>\n",
       "      <th>4</th>\n",
       "      <td>25.0</td>\n",
       "      <td>0.000000</td>\n",
       "      <td>0.000000</td>\n",
       "      <td>0.000000</td>\n",
       "      <td>0.000000</td>\n",
       "      <td>0.000000</td>\n",
       "      <td>0.000000</td>\n",
       "      <td>0.000000</td>\n",
       "      <td>0.000000</td>\n",
       "      <td>0.000000</td>\n",
       "      <td>...</td>\n",
       "      <td>0.00</td>\n",
       "      <td>0.00</td>\n",
       "      <td>0.00</td>\n",
       "      <td>0.00</td>\n",
       "      <td>0.00</td>\n",
       "      <td>0.00</td>\n",
       "      <td>0.00</td>\n",
       "      <td>0.00</td>\n",
       "      <td>0.00</td>\n",
       "      <td>0.00</td>\n",
       "    </tr>\n",
       "    <tr>\n",
       "      <th>...</th>\n",
       "      <td>...</td>\n",
       "      <td>...</td>\n",
       "      <td>...</td>\n",
       "      <td>...</td>\n",
       "      <td>...</td>\n",
       "      <td>...</td>\n",
       "      <td>...</td>\n",
       "      <td>...</td>\n",
       "      <td>...</td>\n",
       "      <td>...</td>\n",
       "      <td>...</td>\n",
       "      <td>...</td>\n",
       "      <td>...</td>\n",
       "      <td>...</td>\n",
       "      <td>...</td>\n",
       "      <td>...</td>\n",
       "      <td>...</td>\n",
       "      <td>...</td>\n",
       "      <td>...</td>\n",
       "      <td>...</td>\n",
       "      <td>...</td>\n",
       "    </tr>\n",
       "    <tr>\n",
       "      <th>715</th>\n",
       "      <td>3580.0</td>\n",
       "      <td>-0.289687</td>\n",
       "      <td>-0.406473</td>\n",
       "      <td>-0.429241</td>\n",
       "      <td>-0.277545</td>\n",
       "      <td>-1.187991</td>\n",
       "      <td>-2.085313</td>\n",
       "      <td>-0.696741</td>\n",
       "      <td>-0.748929</td>\n",
       "      <td>-0.200536</td>\n",
       "      <td>...</td>\n",
       "      <td>6.18</td>\n",
       "      <td>10.21</td>\n",
       "      <td>2.86</td>\n",
       "      <td>17.76</td>\n",
       "      <td>1.65</td>\n",
       "      <td>21.45</td>\n",
       "      <td>2.41</td>\n",
       "      <td>5.73</td>\n",
       "      <td>2.64</td>\n",
       "      <td>2.38</td>\n",
       "    </tr>\n",
       "    <tr>\n",
       "      <th>716</th>\n",
       "      <td>3585.0</td>\n",
       "      <td>-0.286295</td>\n",
       "      <td>-0.406875</td>\n",
       "      <td>-0.424375</td>\n",
       "      <td>-0.276607</td>\n",
       "      <td>-1.191518</td>\n",
       "      <td>-2.083348</td>\n",
       "      <td>-0.699063</td>\n",
       "      <td>-0.743616</td>\n",
       "      <td>-0.203214</td>\n",
       "      <td>...</td>\n",
       "      <td>6.18</td>\n",
       "      <td>10.21</td>\n",
       "      <td>2.81</td>\n",
       "      <td>17.78</td>\n",
       "      <td>1.59</td>\n",
       "      <td>21.41</td>\n",
       "      <td>2.37</td>\n",
       "      <td>5.70</td>\n",
       "      <td>2.73</td>\n",
       "      <td>2.41</td>\n",
       "    </tr>\n",
       "    <tr>\n",
       "      <th>717</th>\n",
       "      <td>3590.0</td>\n",
       "      <td>-0.278661</td>\n",
       "      <td>-0.409554</td>\n",
       "      <td>-0.414777</td>\n",
       "      <td>-0.268616</td>\n",
       "      <td>-1.194866</td>\n",
       "      <td>-2.076652</td>\n",
       "      <td>-0.702723</td>\n",
       "      <td>-0.742054</td>\n",
       "      <td>-0.203482</td>\n",
       "      <td>...</td>\n",
       "      <td>6.21</td>\n",
       "      <td>10.18</td>\n",
       "      <td>2.80</td>\n",
       "      <td>17.74</td>\n",
       "      <td>1.57</td>\n",
       "      <td>21.43</td>\n",
       "      <td>2.40</td>\n",
       "      <td>5.65</td>\n",
       "      <td>2.74</td>\n",
       "      <td>2.38</td>\n",
       "    </tr>\n",
       "    <tr>\n",
       "      <th>718</th>\n",
       "      <td>3595.0</td>\n",
       "      <td>-0.281964</td>\n",
       "      <td>-0.406696</td>\n",
       "      <td>-0.417679</td>\n",
       "      <td>-0.273036</td>\n",
       "      <td>-1.196786</td>\n",
       "      <td>-2.073527</td>\n",
       "      <td>-0.703304</td>\n",
       "      <td>-0.742589</td>\n",
       "      <td>-0.192545</td>\n",
       "      <td>...</td>\n",
       "      <td>6.19</td>\n",
       "      <td>10.21</td>\n",
       "      <td>2.76</td>\n",
       "      <td>17.78</td>\n",
       "      <td>1.55</td>\n",
       "      <td>21.40</td>\n",
       "      <td>2.39</td>\n",
       "      <td>5.63</td>\n",
       "      <td>2.74</td>\n",
       "      <td>2.32</td>\n",
       "    </tr>\n",
       "    <tr>\n",
       "      <th>719</th>\n",
       "      <td>3600.0</td>\n",
       "      <td>-0.284196</td>\n",
       "      <td>-0.409286</td>\n",
       "      <td>-0.421429</td>\n",
       "      <td>-0.276429</td>\n",
       "      <td>-1.191920</td>\n",
       "      <td>-2.074732</td>\n",
       "      <td>-0.704063</td>\n",
       "      <td>-0.729554</td>\n",
       "      <td>-0.194955</td>\n",
       "      <td>...</td>\n",
       "      <td>6.15</td>\n",
       "      <td>10.19</td>\n",
       "      <td>2.78</td>\n",
       "      <td>17.76</td>\n",
       "      <td>1.54</td>\n",
       "      <td>21.36</td>\n",
       "      <td>2.37</td>\n",
       "      <td>5.59</td>\n",
       "      <td>2.72</td>\n",
       "      <td>2.27</td>\n",
       "    </tr>\n",
       "  </tbody>\n",
       "</table>\n",
       "<p>720 rows × 49 columns</p>\n",
       "</div>"
      ],
      "text/plain": [
       "       step  reward_A0  reward_A1  reward_A2  reward_A3  reward_B0  reward_B1  \\\n",
       "0       5.0   0.000000   0.000000   0.000000   0.000000   0.000000   0.000000   \n",
       "1      10.0   0.000000   0.000000   0.000000   0.000000   0.000000   0.000000   \n",
       "2      15.0   0.000000   0.000000   0.000000   0.000000   0.000000   0.000000   \n",
       "3      20.0   0.000000   0.000000   0.000000   0.000000   0.000000   0.000000   \n",
       "4      25.0   0.000000   0.000000   0.000000   0.000000   0.000000   0.000000   \n",
       "..      ...        ...        ...        ...        ...        ...        ...   \n",
       "715  3580.0  -0.289687  -0.406473  -0.429241  -0.277545  -1.187991  -2.085313   \n",
       "716  3585.0  -0.286295  -0.406875  -0.424375  -0.276607  -1.191518  -2.083348   \n",
       "717  3590.0  -0.278661  -0.409554  -0.414777  -0.268616  -1.194866  -2.076652   \n",
       "718  3595.0  -0.281964  -0.406696  -0.417679  -0.273036  -1.196786  -2.073527   \n",
       "719  3600.0  -0.284196  -0.409286  -0.421429  -0.276429  -1.191920  -2.074732   \n",
       "\n",
       "     reward_B2  reward_B3  reward_C0  ...  q_len_B2  q_len_B3  q_len_C0  \\\n",
       "0     0.000000   0.000000   0.000000  ...      0.10      0.10      0.10   \n",
       "1     0.000000   0.000000   0.000000  ...      0.00      0.00      0.00   \n",
       "2     0.000000   0.000000   0.000000  ...      0.00      0.00      0.00   \n",
       "3     0.000000   0.000000   0.000000  ...      0.00      0.00      0.00   \n",
       "4     0.000000   0.000000   0.000000  ...      0.00      0.00      0.00   \n",
       "..         ...        ...        ...  ...       ...       ...       ...   \n",
       "715  -0.696741  -0.748929  -0.200536  ...      6.18     10.21      2.86   \n",
       "716  -0.699063  -0.743616  -0.203214  ...      6.18     10.21      2.81   \n",
       "717  -0.702723  -0.742054  -0.203482  ...      6.21     10.18      2.80   \n",
       "718  -0.703304  -0.742589  -0.192545  ...      6.19     10.21      2.76   \n",
       "719  -0.704063  -0.729554  -0.194955  ...      6.15     10.19      2.78   \n",
       "\n",
       "     q_len_C1  q_len_C2  q_len_C3  q_len_D0  q_len_D1  q_len_D2  q_len_D3  \n",
       "0        0.10      0.10      0.10      0.10      0.10      0.10      0.10  \n",
       "1        0.00      0.00      0.00      0.00      0.00      0.00      0.00  \n",
       "2        0.00      0.00      0.00      0.00      0.00      0.00      0.00  \n",
       "3        0.00      0.00      0.00      0.00      0.00      0.00      0.00  \n",
       "4        0.00      0.00      0.00      0.00      0.00      0.00      0.00  \n",
       "..        ...       ...       ...       ...       ...       ...       ...  \n",
       "715     17.76      1.65     21.45      2.41      5.73      2.64      2.38  \n",
       "716     17.78      1.59     21.41      2.37      5.70      2.73      2.41  \n",
       "717     17.74      1.57     21.43      2.40      5.65      2.74      2.38  \n",
       "718     17.78      1.55     21.40      2.39      5.63      2.74      2.32  \n",
       "719     17.76      1.54     21.36      2.37      5.59      2.72      2.27  \n",
       "\n",
       "[720 rows x 49 columns]"
      ]
     },
     "execution_count": 580,
     "metadata": {},
     "output_type": "execute_result"
    }
   ],
   "source": [
    "all_concat_data_mean"
   ]
  },
  {
   "cell_type": "code",
   "execution_count": 581,
   "metadata": {},
   "outputs": [],
   "source": [
    "summed_data = all_concat_data_mean.iloc[:, 1:].mean()"
   ]
  },
  {
   "cell_type": "code",
   "execution_count": 591,
   "metadata": {},
   "outputs": [],
   "source": [
    "summed_data_wait_norm = summed_data.iloc[0:16]"
   ]
  },
  {
   "cell_type": "code",
   "execution_count": 592,
   "metadata": {},
   "outputs": [],
   "source": [
    "summed_data_max_queue = summed_data.iloc[16:32]"
   ]
  },
  {
   "cell_type": "code",
   "execution_count": 593,
   "metadata": {},
   "outputs": [],
   "source": [
    "summed_data_queue_length = summed_data.iloc[32:50]"
   ]
  },
  {
   "cell_type": "code",
   "execution_count": 594,
   "metadata": {},
   "outputs": [
    {
     "data": {
      "text/plain": [
       "reward_A0   -0.207854\n",
       "reward_A1   -0.244545\n",
       "reward_A2   -0.331235\n",
       "reward_A3   -0.248208\n",
       "reward_B0   -0.614906\n",
       "reward_B1   -1.119665\n",
       "reward_B2   -0.325994\n",
       "reward_B3   -0.403068\n",
       "reward_C0   -0.200419\n",
       "reward_C1   -0.956670\n",
       "reward_C2   -0.136861\n",
       "reward_C3   -0.706905\n",
       "reward_D0   -0.288890\n",
       "reward_D1   -0.327348\n",
       "reward_D2   -0.218743\n",
       "reward_D3   -0.175573\n",
       "dtype: float64"
      ]
     },
     "execution_count": 594,
     "metadata": {},
     "output_type": "execute_result"
    }
   ],
   "source": [
    "summed_data_wait_norm"
   ]
  },
  {
   "cell_type": "code",
   "execution_count": 585,
   "metadata": {},
   "outputs": [
    {
     "data": {
      "image/png": "[encoded data removed]",
      "text/plain": [
       "<Figure size 1000x600 with 1 Axes>"
      ]
     },
     "metadata": {},
     "output_type": "display_data"
    }
   ],
   "source": [
    "import matplotlib.pyplot as plt\n",
    "plt.figure(figsize=(10,6))\n",
    "plt.plot(summed_data_max_queue)\n",
    "plt.show()"
   ]
  },
  {
   "cell_type": "code",
   "execution_count": 586,
   "metadata": {},
   "outputs": [
    {
     "data": {
      "image/png": "[encoded data removed]",
      "text/plain": [
       "<Figure size 1000x600 with 1 Axes>"
      ]
     },
     "metadata": {},
     "output_type": "display_data"
    }
   ],
   "source": [
    "plt.figure(figsize=(10,6))\n",
    "plt.plot(summed_data_reward)\n",
    "plt.show()"
   ]
  },
  {
   "cell_type": "code",
   "execution_count": 587,
   "metadata": {},
   "outputs": [
    {
     "data": {
      "image/png": "[encoded data removed]",
      "text/plain": [
       "<Figure size 1000x600 with 1 Axes>"
      ]
     },
     "metadata": {},
     "output_type": "display_data"
    }
   ],
   "source": [
    "import matplotlib.pyplot as plt\n",
    "plt.figure(figsize=(10,6))\n",
    "plt.plot(summed_data_queue_length)\n",
    "plt.show()"
   ]
  },
  {
   "cell_type": "markdown",
   "metadata": {},
   "source": [
    "## actual results from RESCO 4X4"
   ]
  },
  {
   "cell_type": "markdown",
   "metadata": {},
   "source": [
    "Avg. Delay\n",
    "\n",
    "4x4 Grid\n",
    "Greedy 34.32\n",
    "Max Pressure 52.55\n",
    "IDQN 32.95 +- 0.26\n",
    "MPLight 46.91 +- 0.95\n",
    "IPPO 44.0 +- 0.0\n",
    "FMA2C 99.77 +- 0.0"
   ]
  },
  {
   "cell_type": "markdown",
   "metadata": {},
   "source": [
    "Avg. Wait\n",
    "\n",
    "4x4 Grid\n",
    "IDQN 11.59 +- 0.22\n",
    "MPLight 20.21 +- 0.71\n",
    "IPPO 18.93 +- 0.0\n",
    "FMA2C 71.42 +- 0.0"
   ]
  },
  {
   "cell_type": "markdown",
   "metadata": {},
   "source": [
    "Avg. Trip Time\n",
    "\n",
    "4x4 Grid\n",
    "IDQN 144.09 +- 0.53\n",
    "MPLight 157.77 +- 0.89\n",
    "IPPO 153.96 +- 0.0\n",
    "FMA2C 209.28 +- 0.0"
   ]
  },
  {
   "cell_type": "markdown",
   "metadata": {},
   "source": [
    "Avg. Queue\n",
    "\n",
    "4x4 Grid\n",
    "IDQN 0.33 +- 0.01\n",
    "MPLight 0.55 +- 0.02\n",
    "IPPO 0.5 +- 0.0\n",
    "FMA2C 1.74 +- 0.0\n"
   ]
  }
 ],
 "metadata": {
  "kernelspec": {
   "display_name": "Python 3",
   "language": "python",
   "name": "python3"
  },
  "language_info": {
   "codemirror_mode": {
    "name": "ipython",
    "version": 3
   },
   "file_extension": ".py",
   "mimetype": "text/x-python",
   "name": "python",
   "nbconvert_exporter": "python",
   "pygments_lexer": "ipython3",
   "version": "3.9.10"
  }
 },
 "nbformat": 4,
 "nbformat_minor": 2
}
